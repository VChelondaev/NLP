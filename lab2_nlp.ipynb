{
 "cells": [
  {
   "cell_type": "code",
   "execution_count": 1,
   "id": "initial_id",
   "metadata": {
    "collapsed": true,
    "ExecuteTime": {
     "end_time": "2023-11-06T13:18:20.064478943Z",
     "start_time": "2023-11-06T13:18:13.574796095Z"
    }
   },
   "outputs": [],
   "source": [
    "import string\n",
    "import numpy as np\n",
    "import pandas as pd\n",
    "\n",
    "import torch\n",
    "import torch.nn as nn\n",
    "import torch.optim as optim\n",
    "from torch.utils.data import DataLoader, Dataset\n",
    "from torch.utils.tensorboard import SummaryWriter\n",
    "import pytorch_lightning as pl\n",
    "\n",
    "from gensim.models import KeyedVectors\n",
    "from gensim.models import FastText"
   ]
  },
  {
   "cell_type": "code",
   "execution_count": 3,
   "outputs": [],
   "source": [
    "def parse_conllu(filename):\n",
    "    lines = open(filename, 'r')\n",
    "    parsed_data = []\n",
    "    for line in lines: \n",
    "        line = line.split(\"\\n\")[0]\n",
    "        if line != \"\":\n",
    "            splitted = line.split(\"\\t\")\n",
    "            if splitted[1] in string.punctuation:\n",
    "                continue\n",
    "            parsed_data.append(splitted[1:])\n",
    "    return parsed_data\n",
    "        \n"
   ],
   "metadata": {
    "collapsed": false,
    "ExecuteTime": {
     "end_time": "2023-11-06T13:18:23.073002880Z",
     "start_time": "2023-11-06T13:18:23.061068522Z"
    }
   },
   "id": "c9d6bf65e08259b8"
  },
  {
   "cell_type": "code",
   "execution_count": 12,
   "outputs": [],
   "source": [
    "# train_data = parse_conllu(\"dataset/train.conllu\")\n",
    "# sentences = train_data[:, 0]\n",
    "# fasttext_model = FastText(sentences=sentences, \n",
    "#                           epochs=5,\n",
    "#                           vector_size=100, \n",
    "#                           window=5, \n",
    "#                           min_count=1, \n",
    "#                           sg=1)\n",
    "fasttext_wv = KeyedVectors.load(\"geowac_lemmas_none_fasttextskipgram_300_5_2020/model.model\")"
   ],
   "metadata": {
    "collapsed": false,
    "ExecuteTime": {
     "end_time": "2023-11-06T13:23:01.447016020Z",
     "start_time": "2023-11-06T13:22:51.288031778Z"
    }
   },
   "id": "4c37f532c7591139"
  },
  {
   "cell_type": "code",
   "execution_count": 15,
   "outputs": [
    {
     "name": "stdout",
     "output_type": "stream",
     "text": [
      "300\n"
     ]
    }
   ],
   "source": [
    "print(fasttext_wv.vector_size)"
   ],
   "metadata": {
    "collapsed": false,
    "ExecuteTime": {
     "end_time": "2023-11-06T13:23:54.456185188Z",
     "start_time": "2023-11-06T13:23:54.442142523Z"
    }
   },
   "id": "f68dcc42f3c7af3f"
  },
  {
   "cell_type": "code",
   "execution_count": 5,
   "outputs": [],
   "source": [
    "class CustomCONLLDataset(Dataset):\n",
    "    def __init__(self, raw_data):\n",
    "        self.data = raw_data\n",
    "\n",
    "    def __len__(self):\n",
    "        return len(self.data)\n",
    "\n",
    "    def __getitem__(self, idx):\n",
    "        sample, label = self.data[idx]\n",
    "        if label in ['B-LOC', 'I-LOC']:\n",
    "            label = 0\n",
    "        elif label in ['B-PER', 'I-PER']:\n",
    "            label = 1\n",
    "        elif label in ['B-LOC', 'I-LOC']:\n",
    "            label = 2\n",
    "        elif label in ['B-ORG', 'I-ORG']:\n",
    "            label = 3\n",
    "        elif label in ['B-MISC', 'I-MISC']:\n",
    "            label = 4\n",
    "        else:\n",
    "            label = 5\n",
    "        return sample, label\n"
   ],
   "metadata": {
    "collapsed": false,
    "ExecuteTime": {
     "end_time": "2023-11-06T13:18:32.097114036Z",
     "start_time": "2023-11-06T13:18:32.066337433Z"
    }
   },
   "id": "6509549452f7d38e"
  },
  {
   "cell_type": "code",
   "execution_count": 6,
   "outputs": [],
   "source": [
    "params = {\n",
    "    \"batch_size\": 32\n",
    "}"
   ],
   "metadata": {
    "collapsed": false,
    "ExecuteTime": {
     "end_time": "2023-11-06T13:18:34.223111262Z",
     "start_time": "2023-11-06T13:18:34.209482180Z"
    }
   },
   "id": "c1ddc3ec78c246a4"
  },
  {
   "cell_type": "code",
   "execution_count": 37,
   "outputs": [],
   "source": [
    "train_dataset = CustomCONLLDataset(parse_conllu(\"dataset/train.conllu\"))\n",
    "val_dataset = CustomCONLLDataset(parse_conllu(\"dataset/val.conllu\"))\n",
    "test_dataset = CustomCONLLDataset(parse_conllu(\"dataset/test.conllu\"))\n",
    "\n",
    "dataloader = {\n",
    "    \"train\": DataLoader(train_dataset, batch_size=params[\"batch_size\"], shuffle=True),\n",
    "    \"val\": DataLoader(val_dataset, batch_size=params[\"batch_size\"], shuffle=True),\n",
    "    \"test\": DataLoader(test_dataset, batch_size=1, shuffle=True)\n",
    "}"
   ],
   "metadata": {
    "collapsed": false,
    "ExecuteTime": {
     "end_time": "2023-11-06T16:30:19.048027020Z",
     "start_time": "2023-11-06T16:30:15.501036900Z"
    }
   },
   "id": "a91084a0a5abe19a"
  },
  {
   "cell_type": "code",
   "execution_count": 32,
   "outputs": [],
   "source": [
    "class NERModel(pl.LightningModule):\n",
    "    def __init__(self, word_vector, hidden_dim, output_dim):\n",
    "        super(NERModel, self).__init__()\n",
    "        self.word_vector = word_vector\n",
    "        self.rnn = nn.RNN(word_vector.vector_size, hidden_dim, batch_first=True)\n",
    "        self.fc = nn.Linear(hidden_dim, output_dim)\n",
    "    \n",
    "    def forward(self, word):\n",
    "        embedded = torch.tensor(self.word_vector[word])\n",
    "        output, _ = self.rnn(embedded)\n",
    "        predictions = self.fc(output)\n",
    "        return predictions.softmax(dim=1)\n",
    "\n",
    "    def training_step(self, batch, batch_idx):\n",
    "        words, targets = batch\n",
    "        predictions = self(words)\n",
    "        loss = nn.CrossEntropyLoss()(predictions, targets)\n",
    "        self.log('train_loss', loss)\n",
    "        return loss        \n",
    "\n",
    "    def configure_optimizers(self):\n",
    "        optimizer = optim.Adam(self.parameters(), lr=0.001)\n",
    "        return optimizer\n",
    "\n",
    "\n",
    "ner_model = NERModel(fasttext_wv, 10, 6)"
   ],
   "metadata": {
    "collapsed": false,
    "ExecuteTime": {
     "end_time": "2023-11-06T13:52:50.286664104Z",
     "start_time": "2023-11-06T13:52:50.262941697Z"
    }
   },
   "id": "c9e2df8b9bcb8cfa"
  },
  {
   "cell_type": "code",
   "execution_count": null,
   "outputs": [],
   "source": [
    "log_dir = 'logs'\n",
    "tensorboard_writer = SummaryWriter(log_dir=log_dir)"
   ],
   "metadata": {
    "collapsed": false
   },
   "id": "41e963a17e5ab769"
  },
  {
   "cell_type": "code",
   "execution_count": 33,
   "outputs": [
    {
     "name": "stderr",
     "output_type": "stream",
     "text": [
      "GPU available: False, used: False\n",
      "TPU available: False, using: 0 TPU cores\n",
      "IPU available: False, using: 0 IPUs\n",
      "HPU available: False, using: 0 HPUs\n",
      "\n",
      "  | Name | Type   | Params\n",
      "--------------------------------\n",
      "0 | rnn  | RNN    | 3.1 K \n",
      "1 | fc   | Linear | 66    \n",
      "--------------------------------\n",
      "3.2 K     Trainable params\n",
      "0         Non-trainable params\n",
      "3.2 K     Total params\n",
      "0.013     Total estimated model params size (MB)\n"
     ]
    },
    {
     "data": {
      "text/plain": "Training: |          | 0/? [00:00<?, ?it/s]",
      "application/vnd.jupyter.widget-view+json": {
       "version_major": 2,
       "version_minor": 0,
       "model_id": "57b3cc007db543c69800ca6b2d68a965"
      }
     },
     "metadata": {},
     "output_type": "display_data"
    },
    {
     "name": "stderr",
     "output_type": "stream",
     "text": [
      "`Trainer.fit` stopped: `max_epochs=10` reached.\n"
     ]
    }
   ],
   "source": [
    "trainer = pl.Trainer(max_epochs=2,\n",
    "                     logger=tensorboard_writer) \n",
    "trainer.fit(ner_model, dataloader[\"train\"], dataloader[\"val\"])"
   ],
   "metadata": {
    "collapsed": false,
    "ExecuteTime": {
     "end_time": "2023-11-06T15:14:13.872267189Z",
     "start_time": "2023-11-06T13:52:50.263330086Z"
    }
   },
   "id": "63b25e60e1282abe"
  },
  {
   "cell_type": "code",
   "execution_count": 50,
   "outputs": [
    {
     "name": "stdout",
     "output_type": "stream",
     "text": [
      "Word: ещё: predicted label: \"Other\" with probability: 1.0. Expected label: \"Other\"\n",
      "Word: Находился: predicted label: \"Other\" with probability: 1.0. Expected label: \"Other\"\n",
      "Word: её: predicted label: \"Other\" with probability: 0.999992847442627. Expected label: \"Other\"\n",
      "Word: национальная: predicted label: \"Other\" with probability: 1.0. Expected label: \"Other\"\n",
      "Word: вступает: predicted label: \"Other\" with probability: 1.0. Expected label: \"Other\"\n",
      "Word: говора: predicted label: \"Other\" with probability: 1.0. Expected label: \"Other\"\n",
      "Word: войсках: predicted label: \"Other\" with probability: 0.9999998807907104. Expected label: \"Other\"\n",
      "Word: на: predicted label: \"Other\" with probability: 1.0. Expected label: \"Other\"\n",
      "Word: Color: predicted label: \"Miscellaneous\" with probability: 1.0. Expected label: \"Miscellaneous\"\n",
      "Word: его: predicted label: \"Other\" with probability: 1.0. Expected label: \"Other\"\n",
      "Word: Премьера: predicted label: \"Other\" with probability: 0.99998939037323. Expected label: \"Other\"\n"
     ]
    }
   ],
   "source": [
    "actual_labels = [\"Location\", \"Person\", \"Location\", \"Organization\", \"Miscellaneous\", \"Other\"]\n",
    "for i, (word, label) in enumerate(dataloader[\"test\"]):\n",
    "    predicted = ner_model(word)\n",
    "    predicted_label = torch.argmax(predicted) \n",
    "    print(f\"Word: {word[0]}: predicted label: \\\"{actual_labels[predicted_label]}\\\" with probability: {predicted[0][predicted_label]}. Expected label: \\\"{actual_labels[label]}\\\"\")\n",
    "    if i == 10:\n",
    "        break"
   ],
   "metadata": {
    "collapsed": false,
    "ExecuteTime": {
     "end_time": "2023-11-06T16:40:22.989232684Z",
     "start_time": "2023-11-06T16:40:22.937091743Z"
    }
   },
   "id": "8582a3c9add92a97"
  },
  {
   "cell_type": "code",
   "execution_count": null,
   "outputs": [],
   "source": [
    "tensorboard_writer.close()"
   ],
   "metadata": {
    "collapsed": false
   },
   "id": "8dcfa511d7323b06"
  }
 ],
 "metadata": {
  "kernelspec": {
   "display_name": "Python 3",
   "language": "python",
   "name": "python3"
  },
  "language_info": {
   "codemirror_mode": {
    "name": "ipython",
    "version": 2
   },
   "file_extension": ".py",
   "mimetype": "text/x-python",
   "name": "python",
   "nbconvert_exporter": "python",
   "pygments_lexer": "ipython2",
   "version": "2.7.6"
  }
 },
 "nbformat": 4,
 "nbformat_minor": 5
}
